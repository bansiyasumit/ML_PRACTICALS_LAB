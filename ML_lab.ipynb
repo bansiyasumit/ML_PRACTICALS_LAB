{
  "nbformat": 4,
  "nbformat_minor": 0,
  "metadata": {
    "colab": {
      "provenance": []
    },
    "kernelspec": {
      "name": "python3",
      "display_name": "Python 3"
    },
    "language_info": {
      "name": "python"
    }
  },
  "cells": [
    {
      "cell_type": "code",
      "execution_count": null,
      "metadata": {
        "id": "ZuztbUUvIqA9"
      },
      "outputs": [],
      "source": []
    },
    {
      "cell_type": "markdown",
      "metadata": {
        "id": "38820781"
      },
      "source": [
        "# Task\n",
        "Create a linear regression model using the provided X and Y values, calculate the mean of X, mean of Y, slope (m), and intercept (c) using the formulas, and then predict the value of Y for X=9. The X values represent hours and are the independent variable, while the Y values represent marks and are the dependent variable. The provided X values are {0, 1, 2, 3, 3, 5, 5, 5, 6, 7, 7, 10} and the Y values are {96, 85, 82, 74, 95, 68, 76, 84, 58, 65, 75, 50}."
      ]
    },
    {
      "cell_type": "markdown",
      "metadata": {
        "id": "9a970c56"
      },
      "source": [
        "## Input data\n",
        "\n",
        "### Subtask:\n",
        "Define the given values for X and Y as Python lists or arrays.\n"
      ]
    },
    {
      "cell_type": "markdown",
      "metadata": {
        "id": "10a17fb6"
      },
      "source": [
        "**Reasoning**:\n",
        "The subtask requires defining two lists, X and Y, with the provided values. This can be done in a single code block.\n",
        "\n"
      ]
    },
    {
      "cell_type": "code",
      "metadata": {
        "id": "cf0775c0"
      },
      "source": [
        "X = [0, 1, 2, 3, 3, 5, 5, 5, 6, 7, 7, 10]\n",
        "Y = [96, 85, 82, 74, 95, 68, 76, 84, 58, 65, 75, 50]"
      ],
      "execution_count": 1,
      "outputs": []
    },
    {
      "cell_type": "markdown",
      "metadata": {
        "id": "9fdad830"
      },
      "source": [
        "## Calculate means\n",
        "\n",
        "### Subtask:\n",
        "Compute the mean of X and the mean of Y.\n"
      ]
    },
    {
      "cell_type": "markdown",
      "metadata": {
        "id": "5e2ded4e"
      },
      "source": [
        "**Reasoning**:\n",
        "Calculate the mean of X and Y using sum and len functions and store them in variables.\n",
        "\n"
      ]
    },
    {
      "cell_type": "code",
      "metadata": {
        "colab": {
          "base_uri": "https://localhost:8080/"
        },
        "id": "bf1d754a",
        "outputId": "597a5c1f-2380-4a92-a00b-d2f0958e98ba"
      },
      "source": [
        "mean_x = sum(X) / len(X)\n",
        "mean_y = sum(Y) / len(Y)\n",
        "print(f\"Mean of X: {mean_x}\")\n",
        "print(f\"Mean of Y: {mean_y}\")"
      ],
      "execution_count": 2,
      "outputs": [
        {
          "output_type": "stream",
          "name": "stdout",
          "text": [
            "Mean of X: 4.5\n",
            "Mean of Y: 75.66666666666667\n"
          ]
        }
      ]
    },
    {
      "cell_type": "markdown",
      "metadata": {
        "id": "2ae70887"
      },
      "source": [
        "## Calculate slope (m)\n",
        "\n",
        "### Subtask:\n",
        "Calculate the slope of the regression line using the formula.\n"
      ]
    },
    {
      "cell_type": "markdown",
      "metadata": {
        "id": "17eed6e8"
      },
      "source": [
        "**Reasoning**:\n",
        "Calculate the numerator and denominator for the slope formula and then compute the slope.\n",
        "\n"
      ]
    },
    {
      "cell_type": "code",
      "metadata": {
        "colab": {
          "base_uri": "https://localhost:8080/"
        },
        "id": "dcf97638",
        "outputId": "a044040b-f515-4471-e1e3-cfd5fbee232a"
      },
      "source": [
        "numerator = 0\n",
        "denominator = 0\n",
        "for i in range(len(X)):\n",
        "    numerator += (X[i] - mean_x) * (Y[i] - mean_y)\n",
        "    denominator += (X[i] - mean_x)**2\n",
        "\n",
        "m = numerator / denominator\n",
        "print(f\"Slope (m): {m}\")"
      ],
      "execution_count": 3,
      "outputs": [
        {
          "output_type": "stream",
          "name": "stdout",
          "text": [
            "Slope (m): -4.067415730337078\n"
          ]
        }
      ]
    },
    {
      "cell_type": "markdown",
      "metadata": {
        "id": "83778d60"
      },
      "source": [
        "## Calculate intercept (c)\n",
        "\n",
        "### Subtask:\n",
        "Calculate the y-intercept using the formula and the calculated slope and means.\n"
      ]
    },
    {
      "cell_type": "markdown",
      "metadata": {
        "id": "70ea811f"
      },
      "source": [
        "**Reasoning**:\n",
        "Calculate the y-intercept using the formula c = mean_y - m * mean_x and print the result.\n",
        "\n"
      ]
    },
    {
      "cell_type": "code",
      "metadata": {
        "colab": {
          "base_uri": "https://localhost:8080/"
        },
        "id": "4b7a1634",
        "outputId": "f4116dff-6fc1-4f39-ae46-b174f6984ad7"
      },
      "source": [
        "c = mean_y - m * mean_x\n",
        "print(f\"Y-intercept (c): {c}\")"
      ],
      "execution_count": 4,
      "outputs": [
        {
          "output_type": "stream",
          "name": "stdout",
          "text": [
            "Y-intercept (c): 93.97003745318352\n"
          ]
        }
      ]
    },
    {
      "cell_type": "markdown",
      "metadata": {
        "id": "042d9cbc"
      },
      "source": [
        "## Define prediction function\n",
        "\n",
        "### Subtask:\n",
        "Create a function that takes a new X value and the calculated slope and intercept to predict the corresponding Y value.\n"
      ]
    },
    {
      "cell_type": "markdown",
      "metadata": {
        "id": "c7e3df10"
      },
      "source": [
        "**Reasoning**:\n",
        "Define the `predict_y` function as requested in the instructions.\n",
        "\n"
      ]
    },
    {
      "cell_type": "code",
      "metadata": {
        "id": "111e5b61"
      },
      "source": [
        "def predict_y(x, m, c):\n",
        "    \"\"\"Predicts the Y value for a given X, slope, and intercept.\"\"\"\n",
        "    y_predicted = m * x + c\n",
        "    return y_predicted"
      ],
      "execution_count": 5,
      "outputs": []
    },
    {
      "cell_type": "markdown",
      "metadata": {
        "id": "be80db72"
      },
      "source": [
        "## Predict for x=9\n",
        "\n",
        "### Subtask:\n",
        "Use the prediction function to predict the Y value when X is 9.\n"
      ]
    },
    {
      "cell_type": "markdown",
      "metadata": {
        "id": "80dea364"
      },
      "source": [
        "**Reasoning**:\n",
        "Call the prediction function with the specified X value, slope, and intercept, then store the result and print it.\n",
        "\n"
      ]
    },
    {
      "cell_type": "code",
      "metadata": {
        "colab": {
          "base_uri": "https://localhost:8080/"
        },
        "id": "bb93f46b",
        "outputId": "a0b3d483-37f3-4bdc-aad2-b5c352ac74d0"
      },
      "source": [
        "predicted_y_at_9 = predict_y(x=9, m=m, c=c)\n",
        "print(f\"Predicted Y value for X=9: {predicted_y_at_9}\")"
      ],
      "execution_count": 6,
      "outputs": [
        {
          "output_type": "stream",
          "name": "stdout",
          "text": [
            "Predicted Y value for X=9: 57.36329588014982\n"
          ]
        }
      ]
    },
    {
      "cell_type": "markdown",
      "metadata": {
        "id": "00a7b498"
      },
      "source": [
        "## Display results\n",
        "\n",
        "### Subtask:\n",
        "Show the calculated slope, intercept, and the predicted value for X=9.\n"
      ]
    },
    {
      "cell_type": "markdown",
      "metadata": {
        "id": "f1b98885"
      },
      "source": [
        "**Reasoning**:\n",
        "Print the calculated slope, intercept, and predicted value for X=9 with descriptive labels.\n",
        "\n"
      ]
    },
    {
      "cell_type": "code",
      "metadata": {
        "colab": {
          "base_uri": "https://localhost:8080/"
        },
        "id": "373efe08",
        "outputId": "713d9768-ea86-4f70-dd6b-b99a1cbe1667"
      },
      "source": [
        "print(f\"Calculated Slope (m): {m}\")\n",
        "print(f\"Calculated Intercept (c): {c}\")\n",
        "print(f\"Predicted Y for X=9: {predicted_y_at_9}\")"
      ],
      "execution_count": 7,
      "outputs": [
        {
          "output_type": "stream",
          "name": "stdout",
          "text": [
            "Calculated Slope (m): -4.067415730337078\n",
            "Calculated Intercept (c): 93.97003745318352\n",
            "Predicted Y for X=9: 57.36329588014982\n"
          ]
        }
      ]
    },
    {
      "cell_type": "code",
      "source": [
        "\n",
        "try:\n",
        "    user_x = float(input(\"Enter an X value to predict Y: \"))\n",
        "    predicted_y_for_user_x = predict_y(x=user_x, m=m, c=c)\n",
        "    print(f\"Predicted Y value for X={user_x}: {predicted_y_for_user_x}\")\n",
        "except ValueError:\n",
        "    print(\"Invalid input. Please enter a number.\")"
      ],
      "metadata": {
        "colab": {
          "base_uri": "https://localhost:8080/"
        },
        "id": "gve_3_SxKv3E",
        "outputId": "e0207cc3-03f7-4a29-b72c-01309aefd43d"
      },
      "execution_count": 13,
      "outputs": [
        {
          "output_type": "stream",
          "name": "stdout",
          "text": [
            "Enter an X value to predict Y: 8\n",
            "Predicted Y value for X=8.0: 61.430711610486895\n"
          ]
        }
      ]
    }
  ]
}